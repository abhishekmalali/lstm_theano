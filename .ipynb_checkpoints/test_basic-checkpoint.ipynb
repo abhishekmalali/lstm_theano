{
 "cells": [
  {
   "cell_type": "code",
   "execution_count": 1,
   "metadata": {
    "collapsed": true
   },
   "outputs": [],
   "source": [
    "import numpy as np\n",
    "import theano\n",
    "import theano.tensor as T\n",
    "import pandas as pd\n",
    "import matplotlib.pyplot as plt\n",
    "%matplotlib inline"
   ]
  },
  {
   "cell_type": "code",
   "execution_count": 2,
   "metadata": {
    "collapsed": true
   },
   "outputs": [],
   "source": [
    "np.random.seed(0)"
   ]
  },
  {
   "cell_type": "code",
   "execution_count": 24,
   "metadata": {
    "collapsed": false
   },
   "outputs": [],
   "source": [
    "#creating test input\n",
    "numPoints = 200\n",
    "x = np.linspace(0, 20, numPoints)\n",
    "data = np.sin(x)\n",
    "data_rolled = np.roll(data, -1)\n",
    "x_mat = np.matrix(x).T\n",
    "data_mat = np.matrix(data).T\n",
    "resp_mat = np.matrix(data_rolled).T\n",
    "eta_val = 0.2"
   ]
  },
  {
   "cell_type": "code",
   "execution_count": 15,
   "metadata": {
    "collapsed": false
   },
   "outputs": [],
   "source": [
    "numPoints = 200\n",
    "startTime = 0\n",
    "stopTime = 20\n",
    "time = np.linspace(startTime, stopTime, num=numPoints)\n",
    "x = np.sin(time)\n",
    "data = pd.DataFrame({\"data\":x, \"response\":x})\n",
    "data.response = data.response.shift(-1)\n",
    "#Not selecting the last point since the response is a Nan\n",
    "data = data.iloc[:-1]"
   ]
  },
  {
   "cell_type": "code",
   "execution_count": 16,
   "metadata": {
    "collapsed": true
   },
   "outputs": [],
   "source": [
    "def _load_data(data, n_prev = 3):  \n",
    "    \"\"\"\n",
    "    data should be pd.DataFrame()\n",
    "    \"\"\"\n",
    "\n",
    "    docX, docY = [], []\n",
    "    for i in range(len(data)-n_prev):\n",
    "        docX.append(data.data.iloc[i:i+n_prev])\n",
    "        docY.append(data.response.iloc[i+n_prev-1])\n",
    "    alsX = np.array(docX)\n",
    "    alsY = np.array(docY)\n",
    "\n",
    "    return np.matrix(alsX), np.matrix(alsY).T"
   ]
  },
  {
   "cell_type": "code",
   "execution_count": 22,
   "metadata": {
    "collapsed": false
   },
   "outputs": [],
   "source": [
    "data_mat, resp_mat = _load_data(data)"
   ]
  },
  {
   "cell_type": "code",
   "execution_count": 18,
   "metadata": {
    "collapsed": false
   },
   "outputs": [
    {
     "data": {
      "text/plain": [
       "(196, 1)"
      ]
     },
     "execution_count": 18,
     "metadata": {},
     "output_type": "execute_result"
    }
   ],
   "source": [
    "resp_mat.shape"
   ]
  },
  {
   "cell_type": "code",
   "execution_count": 10,
   "metadata": {
    "collapsed": false
   },
   "outputs": [],
   "source": [
    "from layers import LSTMLayer, InputLayer, FullyConnectedLayer\n",
    "from lib import get_params, make_caches, SGD, momentum"
   ]
  },
  {
   "cell_type": "code",
   "execution_count": null,
   "metadata": {
    "collapsed": false
   },
   "outputs": [],
   "source": [
    "h,s = lstm.forward_step(np.ones(num_input), \\\n",
    "                        np.ones(num_cells), np.ones(num_cells))"
   ]
  },
  {
   "cell_type": "code",
   "execution_count": 30,
   "metadata": {
    "collapsed": false
   },
   "outputs": [],
   "source": [
    "num_input = 1\n",
    "num_cells = 5\n",
    "num_output = 1\n",
    "X = T.matrix('x')\n",
    "Y = T.matrix('y')\n",
    "eta = T.scalar('eta')\n",
    "alpha = T.scalar('alpha')\n",
    "inputs = InputLayer(X, name=\"inputs\")\n",
    "lstm = LSTMLayer(num_input, num_cells, input_layer=inputs, name=\"lstm\")\n",
    "fc = FullyConnectedLayer(num_cells, num_output, input_layer=lstm)\n",
    "Y_hat = T.mean(fc.output(), axis=2)\n",
    "layer = inputs, lstm, fc\n",
    "params = get_params(layer)\n",
    "caches = make_caches(params)\n",
    "mean_cost = T.mean((Y - Y_hat)**2)\n",
    "last_cost = T.mean((Y[-1] - Y_hat[-1])**2)\n",
    "#To run SGD uncomment below and comment momentum line\n",
    "#updates = SGD(cost, params, eta, lambda2=0.1)\n",
    "cost = alpha*mean_cost + (1-alpha)*last_cost\n",
    "updates = momentum(cost, params, caches, eta, clip_at=3.0)\n",
    "train = theano.function([X, Y, eta, alpha], [cost, last_cost] , updates=updates,\\\n",
    "                       allow_input_downcast=True)\n",
    "costfn = theano.function([X, Y, alpha], [cost, last_cost], allow_input_downcast=True)\n",
    "predict = theano.function([X], [Y_hat], allow_input_downcast=True)"
   ]
  },
  {
   "cell_type": "code",
   "execution_count": 26,
   "metadata": {
    "collapsed": false
   },
   "outputs": [
    {
     "data": {
      "text/plain": [
       "[array(0.49015372077586067), array(3.146540219285348e-08)]"
      ]
     },
     "execution_count": 26,
     "metadata": {},
     "output_type": "execute_result"
    }
   ],
   "source": [
    "costfn(data_mat, resp_mat, 1.0)"
   ]
  },
  {
   "cell_type": "code",
   "execution_count": 57,
   "metadata": {
    "collapsed": false
   },
   "outputs": [
    {
     "data": {
      "text/plain": [
       "array([[-0.00323161,  0.00242587,  0.0099474 , -0.00138729, -0.00027877,\n",
       "         0.00440768, -0.00982352, -0.01641294, -0.01847433,  0.00753694,\n",
       "        -0.01076163,  0.00110762, -0.00789088,  0.00871257, -0.01722764,\n",
       "        -0.00207719,  0.01256239,  0.0091235 , -0.0021716 , -0.01099967]])"
      ]
     },
     "execution_count": 57,
     "metadata": {},
     "output_type": "execute_result"
    }
   ],
   "source": [
    "lstm.W_fx.eval()"
   ]
  },
  {
   "cell_type": "code",
   "execution_count": 29,
   "metadata": {
    "collapsed": false,
    "scrolled": false
   },
   "outputs": [
    {
     "data": {
      "text/plain": [
       "((200, 1), (200, 1))"
      ]
     },
     "execution_count": 29,
     "metadata": {},
     "output_type": "execute_result"
    }
   ],
   "source": [
    "data_mat.shape, resp_mat.shape"
   ]
  },
  {
   "cell_type": "code",
   "execution_count": 33,
   "metadata": {
    "collapsed": false,
    "scrolled": true
   },
   "outputs": [
    {
     "name": "stdout",
     "output_type": "stream",
     "text": [
      "iteration: 0, cost: 0.396625103602\n",
      "iteration: 10, cost: 0.387844788001\n",
      "iteration: 20, cost: 0.385990837057\n",
      "iteration: 30, cost: 0.384855513423\n",
      "iteration: 40, cost: 0.384634309244\n",
      "iteration: 50, cost: 0.384407329301\n",
      "iteration: 60, cost: 0.384249195743\n",
      "iteration: 70, cost: 0.384088155023\n",
      "iteration: 80, cost: 0.383941078718\n",
      "iteration: 90, cost: 0.383796661511\n",
      "iteration: 100, cost: 0.383656019685\n",
      "iteration: 110, cost: 0.383517453745\n",
      "iteration: 120, cost: 0.383381111754\n",
      "iteration: 130, cost: 0.383246742878\n",
      "iteration: 140, cost: 0.383114315044\n",
      "iteration: 150, cost: 0.38298373813\n",
      "iteration: 160, cost: 0.382854953206\n",
      "iteration: 170, cost: 0.382727896361\n",
      "iteration: 180, cost: 0.382602510383\n",
      "iteration: 190, cost: 0.382478740905\n",
      "iteration: 200, cost: 0.382356537626\n",
      "iteration: 210, cost: 0.382235853726\n",
      "iteration: 220, cost: 0.382116645757\n",
      "iteration: 230, cost: 0.381998873426\n",
      "iteration: 240, cost: 0.381882499364\n",
      "iteration: 250, cost: 0.381767488862\n",
      "iteration: 260, cost: 0.381653809629\n",
      "iteration: 270, cost: 0.38154143154\n",
      "iteration: 280, cost: 0.381430326413\n",
      "iteration: 290, cost: 0.381320467793\n",
      "iteration: 300, cost: 0.381211830754\n",
      "iteration: 310, cost: 0.381104391728\n",
      "iteration: 320, cost: 0.380998128346\n",
      "iteration: 330, cost: 0.380893019303\n",
      "iteration: 340, cost: 0.380789044235\n",
      "iteration: 350, cost: 0.380686183613\n",
      "iteration: 360, cost: 0.380584418658\n",
      "iteration: 370, cost: 0.380483731253\n",
      "iteration: 380, cost: 0.380384103886\n",
      "iteration: 390, cost: 0.380285519581\n",
      "iteration: 400, cost: 0.380187961856\n",
      "iteration: 410, cost: 0.380091414676\n",
      "iteration: 420, cost: 0.379995862414\n",
      "iteration: 430, cost: 0.379901289825\n",
      "iteration: 440, cost: 0.379807682011\n",
      "iteration: 450, cost: 0.379715024402\n",
      "iteration: 460, cost: 0.379623302735\n",
      "iteration: 470, cost: 0.379532503033\n",
      "iteration: 480, cost: 0.379442611592\n",
      "iteration: 490, cost: 0.379353614965\n",
      "iteration: 500, cost: 0.379265499954\n",
      "iteration: 510, cost: 0.379178253594\n",
      "iteration: 520, cost: 0.379091863149\n",
      "iteration: 530, cost: 0.379006316099\n",
      "iteration: 540, cost: 0.378921600137\n",
      "iteration: 550, cost: 0.378837703159\n",
      "iteration: 560, cost: 0.37875461326\n",
      "iteration: 570, cost: 0.378672318727\n",
      "iteration: 580, cost: 0.378590808039\n",
      "iteration: 590, cost: 0.378510069855\n",
      "iteration: 600, cost: 0.378430093017\n",
      "iteration: 610, cost: 0.378350866542\n",
      "iteration: 620, cost: 0.378272379619\n",
      "iteration: 630, cost: 0.378194621609\n",
      "iteration: 640, cost: 0.378117582039\n",
      "iteration: 650, cost: 0.378041250599\n",
      "iteration: 660, cost: 0.377965617142\n",
      "iteration: 670, cost: 0.377890671678\n",
      "iteration: 680, cost: 0.377816404376\n",
      "iteration: 690, cost: 0.377742805555\n",
      "iteration: 700, cost: 0.37766986569\n",
      "iteration: 710, cost: 0.377597575404\n",
      "iteration: 720, cost: 0.377525925466\n",
      "iteration: 730, cost: 0.377454906793\n",
      "iteration: 740, cost: 0.377384510444\n",
      "iteration: 750, cost: 0.377314738245\n",
      "iteration: 760, cost: 0.379285720539\n",
      "iteration: 770, cost: 0.379432749595\n",
      "iteration: 780, cost: 0.379266222187\n",
      "iteration: 790, cost: 0.378220266999\n",
      "iteration: 800, cost: 0.37719200361\n",
      "iteration: 810, cost: 0.377213502588\n",
      "iteration: 820, cost: 0.376995048538\n",
      "iteration: 830, cost: 0.376900581315\n",
      "iteration: 840, cost: 0.376947443029\n",
      "iteration: 850, cost: 0.377561909936\n",
      "iteration: 860, cost: 0.376723850158\n",
      "iteration: 870, cost: 0.376773988766\n",
      "iteration: 880, cost: 0.376732122563\n",
      "iteration: 890, cost: 0.377843785892\n",
      "iteration: 900, cost: 0.376528476659\n",
      "iteration: 910, cost: 0.376505885845\n",
      "iteration: 920, cost: 0.376365191903\n",
      "iteration: 930, cost: 0.379364268396\n",
      "iteration: 940, cost: 0.376552721577\n",
      "iteration: 950, cost: 0.376741417086\n",
      "iteration: 960, cost: 0.376245032751\n",
      "iteration: 970, cost: 0.376242533188\n",
      "iteration: 980, cost: 0.377172036442\n",
      "iteration: 990, cost: 0.376193039618\n"
     ]
    }
   ],
   "source": [
    "n_iterations = 1000\n",
    "for i in range(n_iterations):\n",
    "    r_cost = train(data_mat, resp_mat, 0.5, 1.0)\n",
    "    if i%10 == 0:\n",
    "        print \"iteration: %s, cost: %s\" % (i, float(r_cost[0]))"
   ]
  },
  {
   "cell_type": "code",
   "execution_count": 35,
   "metadata": {
    "collapsed": false
   },
   "outputs": [
    {
     "data": {
      "text/plain": [
       "[<matplotlib.lines.Line2D at 0x121d45c90>]"
      ]
     },
     "execution_count": 35,
     "metadata": {},
     "output_type": "execute_result"
    },
    {
     "data": {
      "image/png": "[encoded data removed]",
      "text/plain": [
       "<matplotlib.figure.Figure at 0x11bc3f410>"
      ]
     },
     "metadata": {},
     "output_type": "display_data"
    }
   ],
   "source": [
    "plt.plot(predict(x_mat)[0])\n",
    "plt.plot(resp_mat)"
   ]
  },
  {
   "cell_type": "code",
   "execution_count": 28,
   "metadata": {
    "collapsed": false
   },
   "outputs": [
    {
     "data": {
      "text/plain": [
       "[<matplotlib.lines.Line2D at 0x10b62da10>]"
      ]
     },
     "execution_count": 28,
     "metadata": {},
     "output_type": "execute_result"
    },
    {
     "data": {
      "image/png": "[encoded data removed]",
      "text/plain": [
       "<matplotlib.figure.Figure at 0x111519650>"
      ]
     },
     "metadata": {},
     "output_type": "display_data"
    }
   ],
   "source": [
    "plt.plot(predict(data_mat)[0])\n",
    "plt.plot(resp_mat)"
   ]
  },
  {
   "cell_type": "markdown",
   "metadata": {},
   "source": [
    "#### Testing Regular time series with basic_lstm.py"
   ]
  },
  {
   "cell_type": "code",
   "execution_count": 3,
   "metadata": {
    "collapsed": true
   },
   "outputs": [],
   "source": [
    "import numpy as np\n",
    "#Setting the seed before other dependent imports\n",
    "np.random.seed(0)"
   ]
  },
  {
   "cell_type": "code",
   "execution_count": 4,
   "metadata": {
    "collapsed": true
   },
   "outputs": [],
   "source": [
    "import theano\n",
    "import theano.tensor as T\n",
    "import pandas as pd\n",
    "import matplotlib.pyplot as plt\n",
    "%matplotlib inline\n",
    "from layers import LSTMLayer, InputLayer, FullyConnectedLayer\n",
    "from lib import get_params, make_caches, SGD, momentum\n",
    "from basic_lstm import basicLSTM"
   ]
  },
  {
   "cell_type": "code",
   "execution_count": 5,
   "metadata": {
    "collapsed": true
   },
   "outputs": [],
   "source": [
    "def _load_data(data, n_prev = 3):  \n",
    "    \"\"\"\n",
    "    data should be pd.DataFrame()\n",
    "    \"\"\"\n",
    "\n",
    "    docX, docY = [], []\n",
    "    for i in range(len(data)-n_prev):\n",
    "        docX.append(data.data.iloc[i:i+n_prev])\n",
    "        docY.append(data.response.iloc[i+n_prev-1])\n",
    "    alsX = np.array(docX)\n",
    "    alsY = np.array(docY)\n",
    "\n",
    "    return np.matrix(alsX), np.matrix(alsY).T"
   ]
  },
  {
   "cell_type": "code",
   "execution_count": 4,
   "metadata": {
    "collapsed": true
   },
   "outputs": [],
   "source": [
    "numPoints = 200\n",
    "startTime = 0\n",
    "stopTime = 20\n",
    "time = np.linspace(startTime, stopTime, num=numPoints)\n",
    "x = np.sin(time)\n",
    "data = pd.DataFrame({\"data\":x, \"response\":x})\n",
    "data.response = data.response.shift(-1)\n",
    "#Not selecting the last point since the response is a Nan\n",
    "data = data.iloc[:-1]"
   ]
  },
  {
   "cell_type": "code",
   "execution_count": 23,
   "metadata": {
    "collapsed": true
   },
   "outputs": [],
   "source": [
    "n_prev = 3\n",
    "data_mat, resp_mat = _load_data(data, n_prev=n_prev)"
   ]
  },
  {
   "cell_type": "code",
   "execution_count": 6,
   "metadata": {
    "collapsed": false
   },
   "outputs": [],
   "source": [
    "lstm_model = basicLSTM(n_prev)"
   ]
  },
  {
   "cell_type": "code",
   "execution_count": 7,
   "metadata": {
    "collapsed": false
   },
   "outputs": [
    {
     "data": {
      "text/plain": [
       "[array(0.5002794491115484), array(0.8344074788520265)]"
      ]
     },
     "execution_count": 7,
     "metadata": {},
     "output_type": "execute_result"
    }
   ],
   "source": [
    "lstm_model.costfn(data_mat, resp_mat, 1.0)"
   ]
  },
  {
   "cell_type": "code",
   "execution_count": 8,
   "metadata": {
    "collapsed": false,
    "scrolled": true
   },
   "outputs": [
    {
     "name": "stdout",
     "output_type": "stream",
     "text": [
      "iteration: 0, cost: 0.500279449112\n",
      "iteration: 10, cost: 0.481134582443\n",
      "iteration: 20, cost: 0.227940707387\n",
      "iteration: 30, cost: 0.14098215336\n",
      "iteration: 40, cost: 0.0886761005109\n",
      "iteration: 50, cost: 0.0617232088905\n",
      "iteration: 60, cost: 0.0543155208358\n",
      "iteration: 70, cost: 0.0506504974447\n",
      "iteration: 80, cost: 0.0468086099211\n",
      "iteration: 90, cost: 0.0431522004036\n"
     ]
    }
   ],
   "source": [
    "n_iterations = 100\n",
    "for i in range(n_iterations):\n",
    "    r_cost = lstm_model.train(data_mat, resp_mat, 0.5, 1.0)\n",
    "    if i%10 == 0:\n",
    "        print \"iteration: %s, cost: %s\" % (i, float(r_cost[0]))"
   ]
  },
  {
   "cell_type": "code",
   "execution_count": 15,
   "metadata": {
    "collapsed": false
   },
   "outputs": [
    {
     "data": {
      "text/plain": [
       "[<matplotlib.lines.Line2D at 0x11502ea50>]"
      ]
     },
     "execution_count": 15,
     "metadata": {},
     "output_type": "execute_result"
    },
    {
     "data": {
      "image/png": "[encoded data removed]",
      "text/plain": [
       "<matplotlib.figure.Figure at 0x11502ea90>"
      ]
     },
     "metadata": {},
     "output_type": "display_data"
    }
   ],
   "source": [
    "plt.plot(lstm_model.predict(data_mat)[0])\n",
    "plt.plot(resp_mat)"
   ]
  },
  {
   "cell_type": "markdown",
   "metadata": {},
   "source": [
    "#### Regular interval with noise"
   ]
  },
  {
   "cell_type": "code",
   "execution_count": 6,
   "metadata": {
    "collapsed": true
   },
   "outputs": [],
   "source": [
    "def data_generation_noise(stopTime, numPoints, n_prev, noiseSD):\n",
    "    \"\"\"\n",
    "    Inputs:\n",
    "    stopTime - stop time for the sine series\n",
    "    numPoints - Resolution\n",
    "    n_prev - previous points to include for prediction\n",
    "    \"\"\"\n",
    "    noise = np.random.normal(loc=0, scale=noiseSD ,size=numPoints)\n",
    "    if n_prev > 1:\n",
    "        startTime = 0\n",
    "        time_vec = np.linspace(startTime, stopTime, num=numPoints)\n",
    "        x = np.sin(time_vec) + noise\n",
    "        data = pd.DataFrame({\"data\":x, \"response\":x})\n",
    "        data.response = data.response.shift(-1)\n",
    "        #Not selecting the last point since the response is a Nan\n",
    "        data = data.iloc[:-1]\n",
    "        data_mat, resp_mat = _load_data(data, n_prev=n_prev)\n",
    "    else:\n",
    "        time_vec = np.linspace(0, 20, numPoints)\n",
    "        data = np.sin(time_vec) + noise\n",
    "        data_rolled = np.roll(data, -1)[:-1]\n",
    "        data_mat = np.matrix(data[:-1]).T\n",
    "        resp_mat = np.matrix(data_rolled).T\n",
    "    return data_mat, resp_mat, time_vec[n_prev:]"
   ]
  },
  {
   "cell_type": "code",
   "execution_count": 32,
   "metadata": {
    "collapsed": false
   },
   "outputs": [],
   "source": [
    "stopTime = 20\n",
    "numPoints = 200\n",
    "n_prev = 1\n",
    "data_mat, resp_mat, time_vec = data_generation_noise(stopTime, numPoints, n_prev, 1)"
   ]
  },
  {
   "cell_type": "code",
   "execution_count": 33,
   "metadata": {
    "collapsed": false
   },
   "outputs": [
    {
     "data": {
      "text/plain": [
       "[<matplotlib.lines.Line2D at 0x11a652990>]"
      ]
     },
     "execution_count": 33,
     "metadata": {},
     "output_type": "execute_result"
    },
    {
     "data": {
      "image/png": "[encoded data removed]",
      "text/plain": [
       "<matplotlib.figure.Figure at 0x11c1697d0>"
      ]
     },
     "metadata": {},
     "output_type": "display_data"
    }
   ],
   "source": [
    "plt.plot(data_mat)"
   ]
  },
  {
   "cell_type": "code",
   "execution_count": 35,
   "metadata": {
    "collapsed": false
   },
   "outputs": [
    {
     "data": {
      "text/plain": [
       "array([ 0.1,  0.2,  0.3,  0.4,  0.5,  0.6,  0.7,  0.8,  0.9,  1. ])"
      ]
     },
     "execution_count": 35,
     "metadata": {},
     "output_type": "execute_result"
    }
   ],
   "source": [
    "np.arange(0.1,1+0.1,0.1)"
   ]
  },
  {
   "cell_type": "code",
   "execution_count": 21,
   "metadata": {
    "collapsed": true
   },
   "outputs": [],
   "source": [
    "lstm_model = basicLSTM(n_prev)"
   ]
  },
  {
   "cell_type": "code",
   "execution_count": 22,
   "metadata": {
    "collapsed": false
   },
   "outputs": [
    {
     "name": "stdout",
     "output_type": "stream",
     "text": [
      "iteration: 0, cost: 0.471766339099\n",
      "iteration: 10, cost: 0.466520293439\n",
      "iteration: 20, cost: 0.442554783808\n",
      "iteration: 30, cost: 0.286921081171\n",
      "iteration: 40, cost: 0.0811907638385\n",
      "iteration: 50, cost: 0.0631095381363\n",
      "iteration: 60, cost: 0.0701462492078\n",
      "iteration: 70, cost: 0.062197099202\n",
      "iteration: 80, cost: 0.060665437294\n",
      "iteration: 90, cost: 0.0606850145693\n"
     ]
    }
   ],
   "source": [
    "n_iterations = 100\n",
    "for i in range(n_iterations):\n",
    "    r_cost = lstm_model.train(data_mat, resp_mat, 0.5, 1.0)\n",
    "    if i%10 == 0:\n",
    "        print \"iteration: %s, cost: %s\" % (i, float(r_cost[0]))"
   ]
  },
  {
   "cell_type": "code",
   "execution_count": 23,
   "metadata": {
    "collapsed": false
   },
   "outputs": [
    {
     "data": {
      "text/plain": [
       "[<matplotlib.lines.Line2D at 0x11d5b4dd0>]"
      ]
     },
     "execution_count": 23,
     "metadata": {},
     "output_type": "execute_result"
    },
    {
     "data": {
      "image/png": "[encoded data removed]",
      "text/plain": [
       "<matplotlib.figure.Figure at 0x11d5b4750>"
      ]
     },
     "metadata": {},
     "output_type": "display_data"
    }
   ],
   "source": [
    "plt.plot(lstm_model.predict(data_mat)[0])\n",
    "plt.plot(resp_mat)"
   ]
  },
  {
   "cell_type": "markdown",
   "metadata": {},
   "source": [
    "#### Irregular interval testing"
   ]
  },
  {
   "cell_type": "code",
   "execution_count": 2,
   "metadata": {
    "collapsed": true
   },
   "outputs": [],
   "source": [
    "import numpy as np\n",
    "#Setting the seed before other dependent imports\n",
    "np.random.seed(0)"
   ]
  },
  {
   "cell_type": "code",
   "execution_count": 7,
   "metadata": {
    "collapsed": true
   },
   "outputs": [],
   "source": [
    "import theano\n",
    "import theano.tensor as T\n",
    "import pandas as pd\n",
    "import matplotlib.pyplot as plt\n",
    "%matplotlib inline\n",
    "from layers import LSTMLayer, InputLayer, FullyConnectedLayer\n",
    "from lib import get_params, make_caches, SGD, momentum\n",
    "from basic_lstm import basicLSTM\n",
    "import random"
   ]
  },
  {
   "cell_type": "code",
   "execution_count": 70,
   "metadata": {
    "collapsed": false
   },
   "outputs": [],
   "source": [
    "def basic_irregular(stopTime, numPoints, numSelPoints):\n",
    "    time = np.linspace(0, stopTime, numPoints)\n",
    "    data = np.sin(time)\n",
    "    index = np.sort(np.random.choice(range(numPoints), size=numSelPoints, replace=False))\n",
    "    time_irr = time[index]\n",
    "    data_irr = data[index]\n",
    "    delta_t = [0] + list(np.array(time_irr[1:]) - np.array(time_irr[:-1]))\n",
    "    data_mat = np.matrix([list(data_irr), delta_t]).T\n",
    "    data_mat = data_mat[:-1,:]\n",
    "    resp_mat = np.matrix(np.roll(data_irr, -1)[:-1]).T\n",
    "    time_vec = time_irr[1:]\n",
    "    return data_mat, resp_mat, time_vec"
   ]
  },
  {
   "cell_type": "code",
   "execution_count": 71,
   "metadata": {
    "collapsed": true
   },
   "outputs": [],
   "source": [
    "stopTime = 20\n",
    "numPoints = 400\n",
    "numSelPoints = 60\n",
    "data_mat, resp_mat, time_vec = basic_irregular(stopTime, numPoints, numSelPoints)"
   ]
  },
  {
   "cell_type": "code",
   "execution_count": 105,
   "metadata": {
    "collapsed": false
   },
   "outputs": [],
   "source": [
    "numCellArray = np.arange(5,30,5)"
   ]
  },
  {
   "cell_type": "code",
   "execution_count": 111,
   "metadata": {
    "collapsed": true
   },
   "outputs": [],
   "source": [
    "import os\n",
    "graphs_path = os.path.join(os.getcwd(),'graphs')\n",
    "store_path = os.path.join(graphs_path, 'irregular-time-intervals')"
   ]
  },
  {
   "cell_type": "code",
   "execution_count": 112,
   "metadata": {
    "collapsed": false
   },
   "outputs": [],
   "source": [
    "for num in numCellArray:\n",
    "    numPath = os.path.join(store_path, str(num)+'cell_states')\n",
    "    if not os.path.isdir(numPath):\n",
    "        os.makedirs(numPath)"
   ]
  },
  {
   "cell_type": "code",
   "execution_count": 89,
   "metadata": {
    "collapsed": true
   },
   "outputs": [],
   "source": [
    "lstm_model = basicLSTM(2, num_cells=20)"
   ]
  },
  {
   "cell_type": "code",
   "execution_count": 98,
   "metadata": {
    "collapsed": false
   },
   "outputs": [
    {
     "name": "stdout",
     "output_type": "stream",
     "text": [
      "iteration: 0, cost: 0.0112082859926\n",
      "iteration: 100, cost: 0.0111366246071\n",
      "iteration: 200, cost: 0.0111363787474\n",
      "iteration: 300, cost: 0.0182549749613\n",
      "iteration: 400, cost: 0.0107180718491\n",
      "iteration: 500, cost: 0.0106322214573\n",
      "iteration: 600, cost: 0.0106039927456\n",
      "iteration: 700, cost: 0.0103316318723\n",
      "iteration: 800, cost: 0.0103211671069\n",
      "iteration: 900, cost: 0.0100609590313\n"
     ]
    }
   ],
   "source": [
    "n_iterations = 1000\n",
    "for i in range(n_iterations):\n",
    "    r_cost = lstm_model.train(data_mat, resp_mat, 0.3, 1.0)\n",
    "    if i%100 == 0:\n",
    "        print \"iteration: %s, cost: %s\" % (i, float(r_cost[0]))"
   ]
  },
  {
   "cell_type": "code",
   "execution_count": 99,
   "metadata": {
    "collapsed": false
   },
   "outputs": [
    {
     "data": {
      "text/plain": [
       "[<matplotlib.lines.Line2D at 0x121453410>]"
      ]
     },
     "execution_count": 99,
     "metadata": {},
     "output_type": "execute_result"
    },
    {
     "data": {
      "image/png": "[encoded data removed]",
      "text/plain": [
       "<matplotlib.figure.Figure at 0x1214531d0>"
      ]
     },
     "metadata": {},
     "output_type": "display_data"
    }
   ],
   "source": [
    "plt.plot(time_vec, lstm_model.predict(data_mat)[0])\n",
    "plt.plot(time_vec, resp_mat)"
   ]
  },
  {
   "cell_type": "code",
   "execution_count": 74,
   "metadata": {
    "collapsed": false
   },
   "outputs": [
    {
     "data": {
      "text/plain": [
       "[<matplotlib.lines.Line2D at 0x124c30f90>]"
      ]
     },
     "execution_count": 74,
     "metadata": {},
     "output_type": "execute_result"
    },
    {
     "data": {
      "image/png": "[encoded data removed]",
      "text/plain": [
       "<matplotlib.figure.Figure at 0x122f56310>"
      ]
     },
     "metadata": {},
     "output_type": "display_data"
    }
   ],
   "source": [
    "plt.plot(time_vec, lstm_model.predict(data_mat)[0])\n",
    "plt.plot(time_vec, resp_mat)"
   ]
  },
  {
   "cell_type": "markdown",
   "metadata": {},
   "source": [
    "#### Irregular time series with velocity/accelaration parameters"
   ]
  },
  {
   "cell_type": "code",
   "execution_count": 40,
   "metadata": {
    "collapsed": true
   },
   "outputs": [],
   "source": [
    "def acc_vel_irregular(stopTime, numPoints, numSelPoints):\n",
    "    time = np.linspace(0, stopTime, numPoints)\n",
    "    data = np.sin(time)\n",
    "    index = np.sort(np.random.choice(range(numPoints), size=numSelPoints, replace=False))\n",
    "    time_irr = time[index]\n",
    "    data_irr = data[index]\n",
    "    delta_t = [0] + list(np.array(time_irr[1:]) - np.array(time_irr[:-1]))\n",
    "    derivative = np.divide(np.diff(data_irr), np.diff(time_irr))\n",
    "    magDerivative = np.lib.pad(derivative, (1,0), 'constant', constant_values=(0,0))\n",
    "    dDerivative = np.lib.pad(np.diff(magDerivative), (1,0), 'constant', constant_values=(0,0))\n",
    "    data_mat = np.matrix([list(data_irr), delta_t, list(magDerivative), list(dDerivative)]).T\n",
    "    data_mat = data_mat[:-1,:]\n",
    "    resp_mat = np.matrix(np.roll(data_irr, -1)[:-1]).T\n",
    "    time_vec = time_irr[1:]\n",
    "    return data_mat, resp_mat, time_vec"
   ]
  },
  {
   "cell_type": "code",
   "execution_count": 41,
   "metadata": {
    "collapsed": false
   },
   "outputs": [],
   "source": [
    "stopTime = 20\n",
    "numPoints = 400\n",
    "numSelPoints = 60\n",
    "data_mat, resp_mat, time_vec = acc_vel_irregular(stopTime, numPoints, numSelPoints)"
   ]
  },
  {
   "cell_type": "markdown",
   "metadata": {},
   "source": [
    "#### LSTM for LPV's"
   ]
  },
  {
   "cell_type": "code",
   "execution_count": 46,
   "metadata": {
    "collapsed": true
   },
   "outputs": [],
   "source": [
    "import os"
   ]
  },
  {
   "cell_type": "code",
   "execution_count": 47,
   "metadata": {
    "collapsed": true
   },
   "outputs": [],
   "source": [
    "#only visible files\n",
    "def listdir_nohidden(path):\n",
    "    list_files = []\n",
    "    for f in os.listdir(path):\n",
    "        if not f.startswith('.'):\n",
    "            list_files.append(f)\n",
    "    return list_files"
   ]
  },
  {
   "cell_type": "code",
   "execution_count": 48,
   "metadata": {
    "collapsed": false
   },
   "outputs": [
    {
     "name": "stdout",
     "output_type": "stream",
     "text": [
      "Processing LPV file : lc_1.3319.10.B.mjd\n"
     ]
    }
   ],
   "source": [
    "#Getting the list of files\n",
    "datapath = os.path.join(os.getcwd(), 'data/LPV')\n",
    "list_files = listdir_nohidden(datapath)\n",
    "suffix = [files.split('.')[3] for files in list_files]\n",
    "#Starter code when we want to use different bands for analysis\n",
    "file_sel = list_files[0]\n",
    "print \"Processing LPV file :\",file_sel"
   ]
  },
  {
   "cell_type": "code",
   "execution_count": 53,
   "metadata": {
    "collapsed": true
   },
   "outputs": [],
   "source": [
    "def acc_vel_irregular_dataset(data):\n",
    "    data_arr = np.array(data)\n",
    "    time_irr = data_arr[:,0] - data_arr[0,0]\n",
    "    data_irr = data_arr[:,1]\n",
    "    delta_t = [0] + list(np.array(time_irr[1:]) - np.array(time_irr[:-1]))\n",
    "    derivative = np.divide(np.diff(data_irr), np.diff(time_irr))\n",
    "    magDerivative = np.lib.pad(derivative, (1,0), 'constant', constant_values=(0,0))\n",
    "    dDerivative = np.lib.pad(np.diff(magDerivative), (1,0), 'constant', constant_values=(0,0))\n",
    "    data_mat = np.matrix([list(data_irr), delta_t, list(magDerivative), list(dDerivative)]).T\n",
    "    data_mat = data_mat[:-1,:]\n",
    "    resp_mat = np.matrix(np.roll(data_irr, -1)[:-1]).T\n",
    "    time_vec = time_irr[1:]\n",
    "    return data_mat, resp_mat, time_vec"
   ]
  },
  {
   "cell_type": "code",
   "execution_count": 54,
   "metadata": {
    "collapsed": true
   },
   "outputs": [],
   "source": [
    "filepath = os.path.join(datapath, file_sel)\n",
    "data = []\n",
    "with open(filepath) as f:\n",
    "    lines = f.readlines()\n",
    "    header = [str(val) for val in lines[2].split(' ')]\n",
    "    for line in lines[3:]:\n",
    "        data.append([float(val) for val in line.split(' ')])\n",
    "data_df = pd.DataFrame(data)\n",
    "data_df.columns = header"
   ]
  },
  {
   "cell_type": "code",
   "execution_count": 55,
   "metadata": {
    "collapsed": false
   },
   "outputs": [],
   "source": [
    "data_mat, resp_mat, time_vec = acc_vel_irregular_dataset(data_df)"
   ]
  },
  {
   "cell_type": "code",
   "execution_count": 58,
   "metadata": {
    "collapsed": true
   },
   "outputs": [],
   "source": [
    "lstm_model = basicLSTM(4, num_cells=20)"
   ]
  },
  {
   "cell_type": "code",
   "execution_count": 59,
   "metadata": {
    "collapsed": false
   },
   "outputs": [
    {
     "name": "stdout",
     "output_type": "stream",
     "text": [
      "iteration: 0, cost: 70.0443767683\n",
      "iteration: 100, cost: 0.0127868881697\n",
      "iteration: 200, cost: 0.0125867578949\n",
      "iteration: 300, cost: 0.0125231794175\n",
      "iteration: 400, cost: 0.0124756689723\n",
      "iteration: 500, cost: 0.0124349219581\n",
      "iteration: 600, cost: 0.0123961149328\n",
      "iteration: 700, cost: 0.0123559493456\n",
      "iteration: 800, cost: 0.0123118465552\n",
      "iteration: 900, cost: 0.0122624026828\n"
     ]
    }
   ],
   "source": [
    "n_iterations = 1000\n",
    "for i in range(n_iterations):\n",
    "    r_cost = lstm_model.train(data_mat, resp_mat, 0.3, 1.0)\n",
    "    if i%100 == 0:\n",
    "        print \"iteration: %s, cost: %s\" % (i, float(r_cost[0]))"
   ]
  },
  {
   "cell_type": "code",
   "execution_count": 60,
   "metadata": {
    "collapsed": false
   },
   "outputs": [
    {
     "data": {
      "text/plain": [
       "[<matplotlib.lines.Line2D at 0x124732710>]"
      ]
     },
     "execution_count": 60,
     "metadata": {},
     "output_type": "execute_result"
    },
    {
     "data": {
      "image/png": "[encoded data removed]",
      "text/plain": [
       "<matplotlib.figure.Figure at 0x11a3e6610>"
      ]
     },
     "metadata": {},
     "output_type": "display_data"
    }
   ],
   "source": [
    "plt.plot(time_vec, lstm_model.predict(data_mat)[0])\n",
    "plt.plot(time_vec, resp_mat)"
   ]
  },
  {
   "cell_type": "code",
   "execution_count": 61,
   "metadata": {
    "collapsed": false
   },
   "outputs": [
    {
     "data": {
      "text/plain": [
       "matrix([[ -8.14600000e+00,   0.00000000e+00,   0.00000000e+00,\n",
       "           0.00000000e+00],\n",
       "        [ -8.14800000e+00,   2.04651700e+00,  -9.77270162e-04,\n",
       "          -9.77270162e-04],\n",
       "        [ -8.15100000e+00,   9.67407000e-01,  -3.10107328e-03,\n",
       "          -2.12380312e-03],\n",
       "        ..., \n",
       "        [ -8.23500000e+00,   1.18648380e+01,  -1.93850097e-03,\n",
       "           8.42184033e-03],\n",
       "        [ -8.31800000e+00,   5.08517400e+00,  -1.63219587e-02,\n",
       "          -1.43834577e-02],\n",
       "        [ -8.32500000e+00,   9.94320600e+00,  -7.03998288e-04,\n",
       "           1.56179604e-02]])"
      ]
     },
     "execution_count": 61,
     "metadata": {},
     "output_type": "execute_result"
    }
   ],
   "source": [
    "data_mat"
   ]
  },
  {
   "cell_type": "raw",
   "metadata": {},
   "source": []
  }
 ],
 "metadata": {
  "kernelspec": {
   "display_name": "Python 2",
   "language": "python",
   "name": "python2"
  }
 },
 "nbformat": 4,
 "nbformat_minor": 0
}
